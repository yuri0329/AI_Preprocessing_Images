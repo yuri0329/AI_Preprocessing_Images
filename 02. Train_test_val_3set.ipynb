{
 "cells": [
  {
   "cell_type": "markdown",
   "id": "76a56491",
   "metadata": {},
   "source": [
    "# Split image train, test, valid"
   ]
  },
  {
   "cell_type": "code",
   "execution_count": 1,
   "id": "fedfb9fc",
   "metadata": {},
   "outputs": [
    {
     "name": "stdout",
     "output_type": "stream",
     "text": [
      "13593\n",
      "10874\n",
      "10874\n",
      "5368\n",
      "1359\n",
      "718\n",
      "1360\n",
      "662\n"
     ]
    }
   ],
   "source": [
    "import os\n",
    "import random\n",
    "\n",
    "path = ''\n",
    "\n",
    "def Devide_images(path, train=0.8): \n",
    "\n",
    "  img_list = []\n",
    "  train_many = 0 # Number of train images\n",
    "  test_many = 0\n",
    "\n",
    "  # Read files\n",
    "  file_list = os.listdir(path) # Get all filenames in path\n",
    "\n",
    "  # Import only images from the file list\n",
    "  for item in file_list:\n",
    "      if not os.path.isdir(path+'/'+item):\n",
    "        name, ext = os.path.splitext(item)\n",
    "        if(ext == '.jpg' or ext == '.png'):\n",
    "          img_list.append(item)\n",
    "\n",
    "  print(len(img_list)) \n",
    "  if(img_list):\n",
    "  # Shuffle img_list randomly\n",
    "    random.shuffle(img_list)\n",
    "    train_many = round(len(img_list)*train)\n",
    "    test_many = train_many + round(len(img_list)-train_many)//2\n",
    "  print(train_many)\n",
    "  return (img_list[:train_many], img_list[train_many:test_many], img_list[test_many:])\n",
    "\n",
    "\n",
    "def Copy_Images(path, img_list, isValid):\n",
    "  import os\n",
    "  import shutil\n",
    "\n",
    "  filename = ['train', 'valid', 'test'] # train = 0, val = 1, test = 2\n",
    "  save_path = path+'/'+filename[isValid]\n",
    "    \n",
    "  # Create an images folder for each\n",
    "  os.makedirs(save_path+'/images', exist_ok=True)\n",
    "  os.makedirs(save_path+'/labels', exist_ok=True)\n",
    "\n",
    "  # Move each image\n",
    "  for item in img_list: \n",
    "    if os.path.isfile(path+'/'+item):\n",
    "      shutil.move(path+'/'+item, save_path+'/images/')\n",
    "    \n",
    "    # Create labels folder for each\n",
    "    name, ext = os.path.splitext(item)\n",
    "    if os.path.isfile(path+'/'+name+'.txt'):\n",
    "      shutil.move(path+'/'+name+'.txt', save_path+'/labels/') \n",
    "\n",
    "\n",
    "def Split_Image_and_Label(path, train=0.8): # Train defaults to 0.8\n",
    "  import os\n",
    "\n",
    "  img_list = Devide_images(path, train) \n",
    "\n",
    "  for flag, images in enumerate(img_list):\n",
    "    Copy_Images(path, images, flag)\n",
    "     \n",
    "  print(len(os.listdir(path+'/train/images'))) \n",
    "  print(len(os.listdir(path+'/train/labels'))) \n",
    "  print(len(os.listdir(path+'/valid/images'))) \n",
    "  print(len(os.listdir(path+'/valid/labels'))) \n",
    "  print(len(os.listdir(path+'/test/images')))\n",
    "  print(len(os.listdir(path+'/test/labels')))\n",
    "    \n",
    "\n",
    "# Give Split_Image_and_Label the image path on the right\n",
    "Split_Image_and_Label('')"
   ]
  },
  {
   "cell_type": "markdown",
   "id": "734a09a5",
   "metadata": {},
   "source": [
    "### Create data.yaml\n",
    "- Create data.yaml to use in yolov5"
   ]
  },
  {
   "cell_type": "code",
   "execution_count": 2,
   "id": "b016068d",
   "metadata": {},
   "outputs": [
    {
     "name": "stdout",
     "output_type": "stream",
     "text": [
      "{'train': 'D:/person_detection/total_raw_image_person_6748/train/images', 'val': 'D:/person_detection/total_raw_image_person_6748/valid/images', 'test': 'D:/person_detection/total_raw_image_person_6748/test/images', 'nc': '1', 'names': ['person']}\n"
     ]
    }
   ],
   "source": [
    "import yaml\n",
    "import os\n",
    "\n",
    "path = ''\n",
    "data = { }\n",
    "\n",
    "data['train'] = path+'/train/images'\n",
    "data['val'] = path+'/valid/images'\n",
    "data['test'] = path+'/test/images'\n",
    "data['nc'] = '1'\n",
    "data['names'] = ['person']\n",
    "with open(path +'/data.yaml', 'w') as f:\n",
    "  yaml.dump(data, f)\n",
    "\n",
    "print(data)"
   ]
  }
 ],
 "metadata": {
  "kernelspec": {
   "display_name": "Python 3 (ipykernel)",
   "language": "python",
   "name": "python3"
  },
  "language_info": {
   "codemirror_mode": {
    "name": "ipython",
    "version": 3
   },
   "file_extension": ".py",
   "mimetype": "text/x-python",
   "name": "python",
   "nbconvert_exporter": "python",
   "pygments_lexer": "ipython3",
   "version": "3.9.7"
  }
 },
 "nbformat": 4,
 "nbformat_minor": 5
}
